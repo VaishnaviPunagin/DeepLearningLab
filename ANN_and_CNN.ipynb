{
  "nbformat": 4,
  "nbformat_minor": 0,
  "metadata": {
    "colab": {
      "name": "ANN and CNN.ipynb",
      "provenance": [],
      "toc_visible": true,
      "include_colab_link": true
    },
    "kernelspec": {
      "name": "python3",
      "display_name": "Python 3"
    },
    "language_info": {
      "name": "python"
    }
  },
  "cells": [
    {
      "cell_type": "markdown",
      "metadata": {
        "id": "view-in-github",
        "colab_type": "text"
      },
      "source": [
        "<a href=\"https://colab.research.google.com/github/VaishnaviPunagin/DeepLearningLab/blob/main/ANN_and_CNN.ipynb\" target=\"_parent\"><img src=\"https://colab.research.google.com/assets/colab-badge.svg\" alt=\"Open In Colab\"/></a>"
      ]
    },
    {
      "cell_type": "markdown",
      "metadata": {
        "id": "1F59ymVm4vnp"
      },
      "source": [
        "#Implementation of ANN"
      ]
    },
    {
      "cell_type": "markdown",
      "metadata": {
        "id": "0k5ThEFesdE0"
      },
      "source": [
        "##Import Required libraries"
      ]
    },
    {
      "cell_type": "code",
      "metadata": {
        "colab": {
          "base_uri": "https://localhost:8080/"
        },
        "id": "Yl3xaAVU43sl",
        "outputId": "955ae970-f004-4777-f8ec-b2e6f464eb94"
      },
      "source": [
        "import numpy as np\n",
        "import matplotlib.pyplot as plt\n",
        "import pandas as pd\n",
        "from pandas import datetime\n",
        "import math\n",
        "from math import sqrt\n",
        "from keras.models import Sequential\n",
        "from keras.layers.core import Dense, Dropout, Activation"
      ],
      "execution_count": null,
      "outputs": [
        {
          "output_type": "stream",
          "text": [
            "/usr/local/lib/python3.7/dist-packages/ipykernel_launcher.py:4: FutureWarning: The pandas.datetime class is deprecated and will be removed from pandas in a future version. Import from datetime module instead.\n",
            "  after removing the cwd from sys.path.\n"
          ],
          "name": "stderr"
        }
      ]
    },
    {
      "cell_type": "markdown",
      "metadata": {
        "id": "M1N8V1FWsnLU"
      },
      "source": [
        "##Mouting the drive to access data file"
      ]
    },
    {
      "cell_type": "code",
      "metadata": {
        "colab": {
          "base_uri": "https://localhost:8080/"
        },
        "id": "ahn6aLM1pOIV",
        "outputId": "ac32ad80-86b4-4907-910b-4bda6e0c2323"
      },
      "source": [
        "from google.colab import drive\n",
        "drive.mount('/content/drive')\n",
        "\n",
        "\n",
        "# #When done, \n",
        "# drive.flush_and_unmount()\n",
        "# print('All changes made in this colab session should now be visible in Drive.')"
      ],
      "execution_count": null,
      "outputs": [
        {
          "output_type": "stream",
          "text": [
            "Drive already mounted at /content/drive; to attempt to forcibly remount, call drive.mount(\"/content/drive\", force_remount=True).\n"
          ],
          "name": "stdout"
        }
      ]
    },
    {
      "cell_type": "code",
      "metadata": {
        "id": "T33h7BmFpRGD"
      },
      "source": [
        "def get_stock_data(normalized=0):\n",
        "    col_names = ['Date','Open','High','Low','Close','Volume','Adj Close']\n",
        "    stocks = pd.read_csv(r\"/content/drive/My Drive/EDELWEISSNS.csv\", header=0, names=col_names)\n",
        "    df = pd.DataFrame(stocks)\n",
        "    date_split = df['Date'].str.split('-').str\n",
        "    df['Year'], df['Month'], df['Day'] = date_split\n",
        "    df[\"Volume\"] = df[\"Volume\"] / 10000\n",
        "    return df"
      ],
      "execution_count": null,
      "outputs": []
    },
    {
      "cell_type": "code",
      "metadata": {
        "colab": {
          "base_uri": "https://localhost:8080/",
          "height": 258
        },
        "id": "E_QiWy7epWM3",
        "outputId": "a7ec9d53-4013-4304-c541-a48b70ff0d94"
      },
      "source": [
        "df = get_stock_data(0)\n",
        "df.head()"
      ],
      "execution_count": null,
      "outputs": [
        {
          "output_type": "stream",
          "text": [
            "/usr/local/lib/python3.7/dist-packages/ipykernel_launcher.py:6: FutureWarning: Columnar iteration over characters will be deprecated in future releases.\n",
            "  \n"
          ],
          "name": "stderr"
        },
        {
          "output_type": "execute_result",
          "data": {
            "text/html": [
              "<div>\n",
              "<style scoped>\n",
              "    .dataframe tbody tr th:only-of-type {\n",
              "        vertical-align: middle;\n",
              "    }\n",
              "\n",
              "    .dataframe tbody tr th {\n",
              "        vertical-align: top;\n",
              "    }\n",
              "\n",
              "    .dataframe thead th {\n",
              "        text-align: right;\n",
              "    }\n",
              "</style>\n",
              "<table border=\"1\" class=\"dataframe\">\n",
              "  <thead>\n",
              "    <tr style=\"text-align: right;\">\n",
              "      <th></th>\n",
              "      <th>Date</th>\n",
              "      <th>Open</th>\n",
              "      <th>High</th>\n",
              "      <th>Low</th>\n",
              "      <th>Close</th>\n",
              "      <th>Volume</th>\n",
              "      <th>Adj Close</th>\n",
              "      <th>Year</th>\n",
              "      <th>Month</th>\n",
              "      <th>Day</th>\n",
              "    </tr>\n",
              "  </thead>\n",
              "  <tbody>\n",
              "    <tr>\n",
              "      <th>0</th>\n",
              "      <td>03-10-2008</td>\n",
              "      <td>41.299999</td>\n",
              "      <td>41.685001</td>\n",
              "      <td>39.400002</td>\n",
              "      <td>40.525002</td>\n",
              "      <td>0.002930</td>\n",
              "      <td>185090.0</td>\n",
              "      <td>03</td>\n",
              "      <td>10</td>\n",
              "      <td>2008</td>\n",
              "    </tr>\n",
              "    <tr>\n",
              "      <th>1</th>\n",
              "      <td>06-10-2008</td>\n",
              "      <td>39.700001</td>\n",
              "      <td>40.799999</td>\n",
              "      <td>37.200001</td>\n",
              "      <td>39.564999</td>\n",
              "      <td>0.002860</td>\n",
              "      <td>204340.0</td>\n",
              "      <td>06</td>\n",
              "      <td>10</td>\n",
              "      <td>2008</td>\n",
              "    </tr>\n",
              "    <tr>\n",
              "      <th>2</th>\n",
              "      <td>07-10-2008</td>\n",
              "      <td>40.000000</td>\n",
              "      <td>40.599998</td>\n",
              "      <td>36.000000</td>\n",
              "      <td>36.119999</td>\n",
              "      <td>0.002611</td>\n",
              "      <td>128970.0</td>\n",
              "      <td>07</td>\n",
              "      <td>10</td>\n",
              "      <td>2008</td>\n",
              "    </tr>\n",
              "    <tr>\n",
              "      <th>3</th>\n",
              "      <td>08-10-2008</td>\n",
              "      <td>35.000000</td>\n",
              "      <td>44.400002</td>\n",
              "      <td>34.500000</td>\n",
              "      <td>40.880001</td>\n",
              "      <td>0.002955</td>\n",
              "      <td>700490.0</td>\n",
              "      <td>08</td>\n",
              "      <td>10</td>\n",
              "      <td>2008</td>\n",
              "    </tr>\n",
              "    <tr>\n",
              "      <th>4</th>\n",
              "      <td>10-10-2008</td>\n",
              "      <td>40.400002</td>\n",
              "      <td>40.400002</td>\n",
              "      <td>35.299999</td>\n",
              "      <td>37.910000</td>\n",
              "      <td>0.002741</td>\n",
              "      <td>367380.0</td>\n",
              "      <td>10</td>\n",
              "      <td>10</td>\n",
              "      <td>2008</td>\n",
              "    </tr>\n",
              "  </tbody>\n",
              "</table>\n",
              "</div>"
            ],
            "text/plain": [
              "         Date       Open       High        Low  ...  Adj Close  Year  Month   Day\n",
              "0  03-10-2008  41.299999  41.685001  39.400002  ...   185090.0    03     10  2008\n",
              "1  06-10-2008  39.700001  40.799999  37.200001  ...   204340.0    06     10  2008\n",
              "2  07-10-2008  40.000000  40.599998  36.000000  ...   128970.0    07     10  2008\n",
              "3  08-10-2008  35.000000  44.400002  34.500000  ...   700490.0    08     10  2008\n",
              "4  10-10-2008  40.400002  40.400002  35.299999  ...   367380.0    10     10  2008\n",
              "\n",
              "[5 rows x 10 columns]"
            ]
          },
          "metadata": {
            "tags": []
          },
          "execution_count": 5
        }
      ]
    },
    {
      "cell_type": "code",
      "metadata": {
        "colab": {
          "base_uri": "https://localhost:8080/",
          "height": 204
        },
        "id": "wH16KGpypaxx",
        "outputId": "c58984b1-98fb-4fb6-bcc1-ee942dac51b2"
      },
      "source": [
        "df.drop(df.columns[[0,3,6, 7,8,9]], axis=1, inplace=True)\n",
        "df.head()"
      ],
      "execution_count": null,
      "outputs": [
        {
          "output_type": "execute_result",
          "data": {
            "text/html": [
              "<div>\n",
              "<style scoped>\n",
              "    .dataframe tbody tr th:only-of-type {\n",
              "        vertical-align: middle;\n",
              "    }\n",
              "\n",
              "    .dataframe tbody tr th {\n",
              "        vertical-align: top;\n",
              "    }\n",
              "\n",
              "    .dataframe thead th {\n",
              "        text-align: right;\n",
              "    }\n",
              "</style>\n",
              "<table border=\"1\" class=\"dataframe\">\n",
              "  <thead>\n",
              "    <tr style=\"text-align: right;\">\n",
              "      <th></th>\n",
              "      <th>Open</th>\n",
              "      <th>High</th>\n",
              "      <th>Close</th>\n",
              "      <th>Volume</th>\n",
              "    </tr>\n",
              "  </thead>\n",
              "  <tbody>\n",
              "    <tr>\n",
              "      <th>0</th>\n",
              "      <td>41.299999</td>\n",
              "      <td>41.685001</td>\n",
              "      <td>40.525002</td>\n",
              "      <td>0.002930</td>\n",
              "    </tr>\n",
              "    <tr>\n",
              "      <th>1</th>\n",
              "      <td>39.700001</td>\n",
              "      <td>40.799999</td>\n",
              "      <td>39.564999</td>\n",
              "      <td>0.002860</td>\n",
              "    </tr>\n",
              "    <tr>\n",
              "      <th>2</th>\n",
              "      <td>40.000000</td>\n",
              "      <td>40.599998</td>\n",
              "      <td>36.119999</td>\n",
              "      <td>0.002611</td>\n",
              "    </tr>\n",
              "    <tr>\n",
              "      <th>3</th>\n",
              "      <td>35.000000</td>\n",
              "      <td>44.400002</td>\n",
              "      <td>40.880001</td>\n",
              "      <td>0.002955</td>\n",
              "    </tr>\n",
              "    <tr>\n",
              "      <th>4</th>\n",
              "      <td>40.400002</td>\n",
              "      <td>40.400002</td>\n",
              "      <td>37.910000</td>\n",
              "      <td>0.002741</td>\n",
              "    </tr>\n",
              "  </tbody>\n",
              "</table>\n",
              "</div>"
            ],
            "text/plain": [
              "        Open       High      Close    Volume\n",
              "0  41.299999  41.685001  40.525002  0.002930\n",
              "1  39.700001  40.799999  39.564999  0.002860\n",
              "2  40.000000  40.599998  36.119999  0.002611\n",
              "3  35.000000  44.400002  40.880001  0.002955\n",
              "4  40.400002  40.400002  37.910000  0.002741"
            ]
          },
          "metadata": {
            "tags": []
          },
          "execution_count": 6
        }
      ]
    },
    {
      "cell_type": "markdown",
      "metadata": {
        "id": "EdFoxrl5icGf"
      },
      "source": [
        "We get the stock data from Yahoo finance as a CSV, for any company.\n",
        "Drop all other columns (Volume, Year, Month and Day) and retain Open, High and Close - since I'm just predicting the close value for a day"
      ]
    },
    {
      "cell_type": "code",
      "metadata": {
        "id": "leECnBKrpadA"
      },
      "source": [
        "def get_stock_data(normalized=0):\n",
        "    col_names = ['Date','Open','High','Low','Close','Volume','Adj Close']\n",
        "    stocks = pd.read_csv(r\"/content/drive/My Drive/EDELWEISSNS.csv\", header=0, names=col_names)\n",
        "    df = pd.DataFrame(stocks)\n",
        "    date_split = df['Date'].str.split('-').str\n",
        "    df['Year'], df['Month'], df['Day'] = date_split\n",
        "    df[\"Volume\"] = df[\"Volume\"] / 10000\n",
        "    return df"
      ],
      "execution_count": null,
      "outputs": []
    },
    {
      "cell_type": "code",
      "metadata": {
        "colab": {
          "base_uri": "https://localhost:8080/",
          "height": 258
        },
        "id": "yPw1FUNvp5WT",
        "outputId": "2c719a52-96c2-43f2-cc8a-465211ca5294"
      },
      "source": [
        "df = get_stock_data(0)\n",
        "df.head()"
      ],
      "execution_count": null,
      "outputs": [
        {
          "output_type": "stream",
          "text": [
            "/usr/local/lib/python3.7/dist-packages/ipykernel_launcher.py:6: FutureWarning: Columnar iteration over characters will be deprecated in future releases.\n",
            "  \n"
          ],
          "name": "stderr"
        },
        {
          "output_type": "execute_result",
          "data": {
            "text/html": [
              "<div>\n",
              "<style scoped>\n",
              "    .dataframe tbody tr th:only-of-type {\n",
              "        vertical-align: middle;\n",
              "    }\n",
              "\n",
              "    .dataframe tbody tr th {\n",
              "        vertical-align: top;\n",
              "    }\n",
              "\n",
              "    .dataframe thead th {\n",
              "        text-align: right;\n",
              "    }\n",
              "</style>\n",
              "<table border=\"1\" class=\"dataframe\">\n",
              "  <thead>\n",
              "    <tr style=\"text-align: right;\">\n",
              "      <th></th>\n",
              "      <th>Date</th>\n",
              "      <th>Open</th>\n",
              "      <th>High</th>\n",
              "      <th>Low</th>\n",
              "      <th>Close</th>\n",
              "      <th>Volume</th>\n",
              "      <th>Adj Close</th>\n",
              "      <th>Year</th>\n",
              "      <th>Month</th>\n",
              "      <th>Day</th>\n",
              "    </tr>\n",
              "  </thead>\n",
              "  <tbody>\n",
              "    <tr>\n",
              "      <th>0</th>\n",
              "      <td>03-10-2008</td>\n",
              "      <td>41.299999</td>\n",
              "      <td>41.685001</td>\n",
              "      <td>39.400002</td>\n",
              "      <td>40.525002</td>\n",
              "      <td>0.002930</td>\n",
              "      <td>185090.0</td>\n",
              "      <td>03</td>\n",
              "      <td>10</td>\n",
              "      <td>2008</td>\n",
              "    </tr>\n",
              "    <tr>\n",
              "      <th>1</th>\n",
              "      <td>06-10-2008</td>\n",
              "      <td>39.700001</td>\n",
              "      <td>40.799999</td>\n",
              "      <td>37.200001</td>\n",
              "      <td>39.564999</td>\n",
              "      <td>0.002860</td>\n",
              "      <td>204340.0</td>\n",
              "      <td>06</td>\n",
              "      <td>10</td>\n",
              "      <td>2008</td>\n",
              "    </tr>\n",
              "    <tr>\n",
              "      <th>2</th>\n",
              "      <td>07-10-2008</td>\n",
              "      <td>40.000000</td>\n",
              "      <td>40.599998</td>\n",
              "      <td>36.000000</td>\n",
              "      <td>36.119999</td>\n",
              "      <td>0.002611</td>\n",
              "      <td>128970.0</td>\n",
              "      <td>07</td>\n",
              "      <td>10</td>\n",
              "      <td>2008</td>\n",
              "    </tr>\n",
              "    <tr>\n",
              "      <th>3</th>\n",
              "      <td>08-10-2008</td>\n",
              "      <td>35.000000</td>\n",
              "      <td>44.400002</td>\n",
              "      <td>34.500000</td>\n",
              "      <td>40.880001</td>\n",
              "      <td>0.002955</td>\n",
              "      <td>700490.0</td>\n",
              "      <td>08</td>\n",
              "      <td>10</td>\n",
              "      <td>2008</td>\n",
              "    </tr>\n",
              "    <tr>\n",
              "      <th>4</th>\n",
              "      <td>10-10-2008</td>\n",
              "      <td>40.400002</td>\n",
              "      <td>40.400002</td>\n",
              "      <td>35.299999</td>\n",
              "      <td>37.910000</td>\n",
              "      <td>0.002741</td>\n",
              "      <td>367380.0</td>\n",
              "      <td>10</td>\n",
              "      <td>10</td>\n",
              "      <td>2008</td>\n",
              "    </tr>\n",
              "  </tbody>\n",
              "</table>\n",
              "</div>"
            ],
            "text/plain": [
              "         Date       Open       High        Low  ...  Adj Close  Year  Month   Day\n",
              "0  03-10-2008  41.299999  41.685001  39.400002  ...   185090.0    03     10  2008\n",
              "1  06-10-2008  39.700001  40.799999  37.200001  ...   204340.0    06     10  2008\n",
              "2  07-10-2008  40.000000  40.599998  36.000000  ...   128970.0    07     10  2008\n",
              "3  08-10-2008  35.000000  44.400002  34.500000  ...   700490.0    08     10  2008\n",
              "4  10-10-2008  40.400002  40.400002  35.299999  ...   367380.0    10     10  2008\n",
              "\n",
              "[5 rows x 10 columns]"
            ]
          },
          "metadata": {
            "tags": []
          },
          "execution_count": 10
        }
      ]
    },
    {
      "cell_type": "code",
      "metadata": {
        "colab": {
          "base_uri": "https://localhost:8080/",
          "height": 204
        },
        "id": "ztpv5o1GqBd7",
        "outputId": "d35f5536-b93f-4973-dab5-45f22c59b238"
      },
      "source": [
        "df.drop(df.columns[[0,3,6, 7,8,9]], axis=1, inplace=True)\n",
        "df.head()"
      ],
      "execution_count": null,
      "outputs": [
        {
          "output_type": "execute_result",
          "data": {
            "text/html": [
              "<div>\n",
              "<style scoped>\n",
              "    .dataframe tbody tr th:only-of-type {\n",
              "        vertical-align: middle;\n",
              "    }\n",
              "\n",
              "    .dataframe tbody tr th {\n",
              "        vertical-align: top;\n",
              "    }\n",
              "\n",
              "    .dataframe thead th {\n",
              "        text-align: right;\n",
              "    }\n",
              "</style>\n",
              "<table border=\"1\" class=\"dataframe\">\n",
              "  <thead>\n",
              "    <tr style=\"text-align: right;\">\n",
              "      <th></th>\n",
              "      <th>Open</th>\n",
              "      <th>High</th>\n",
              "      <th>Close</th>\n",
              "      <th>Volume</th>\n",
              "    </tr>\n",
              "  </thead>\n",
              "  <tbody>\n",
              "    <tr>\n",
              "      <th>0</th>\n",
              "      <td>41.299999</td>\n",
              "      <td>41.685001</td>\n",
              "      <td>40.525002</td>\n",
              "      <td>0.002930</td>\n",
              "    </tr>\n",
              "    <tr>\n",
              "      <th>1</th>\n",
              "      <td>39.700001</td>\n",
              "      <td>40.799999</td>\n",
              "      <td>39.564999</td>\n",
              "      <td>0.002860</td>\n",
              "    </tr>\n",
              "    <tr>\n",
              "      <th>2</th>\n",
              "      <td>40.000000</td>\n",
              "      <td>40.599998</td>\n",
              "      <td>36.119999</td>\n",
              "      <td>0.002611</td>\n",
              "    </tr>\n",
              "    <tr>\n",
              "      <th>3</th>\n",
              "      <td>35.000000</td>\n",
              "      <td>44.400002</td>\n",
              "      <td>40.880001</td>\n",
              "      <td>0.002955</td>\n",
              "    </tr>\n",
              "    <tr>\n",
              "      <th>4</th>\n",
              "      <td>40.400002</td>\n",
              "      <td>40.400002</td>\n",
              "      <td>37.910000</td>\n",
              "      <td>0.002741</td>\n",
              "    </tr>\n",
              "  </tbody>\n",
              "</table>\n",
              "</div>"
            ],
            "text/plain": [
              "        Open       High      Close    Volume\n",
              "0  41.299999  41.685001  40.525002  0.002930\n",
              "1  39.700001  40.799999  39.564999  0.002860\n",
              "2  40.000000  40.599998  36.119999  0.002611\n",
              "3  35.000000  44.400002  40.880001  0.002955\n",
              "4  40.400002  40.400002  37.910000  0.002741"
            ]
          },
          "metadata": {
            "tags": []
          },
          "execution_count": 11
        }
      ]
    },
    {
      "cell_type": "markdown",
      "metadata": {
        "id": "UXhbN5OvicGk"
      },
      "source": [
        "## Normalizing and removing the null data points"
      ]
    },
    {
      "cell_type": "code",
      "metadata": {
        "colab": {
          "base_uri": "https://localhost:8080/"
        },
        "id": "j7UjTbRMqWaI",
        "outputId": "45da1823-4424-48ba-c6d8-15390c30ac5e"
      },
      "source": [
        "df['Open'] = df['Open']/100\n",
        "df['High'] = df['High']/100\n",
        "df['Volume'] = df['Volume']*100\n",
        "df['Close'] = df['Close']/100\n",
        "print(df)\n",
        "nan_value_index = []\n",
        "High = df.High.isnull()\n",
        "for i in range(0, len(High)):\n",
        "    if High[i] == 1:\n",
        "        nan_value_index.append(i)\n",
        "        df['High'][i] = 0\n",
        "Open = df.Open.isnull()\n",
        "for i in range(0, len(Open)):\n",
        "    if Open[i] == 1:\n",
        "        nan_value_index.append(i)\n",
        "        df['Open'][i] = 0\n",
        "Volume = df.Volume.isnull()\n",
        "for i in range(0, len(Volume)):\n",
        "    if Volume[i] == 1:\n",
        "        nan_value_index.append(i)\n",
        "        df['Volume'][i] = 0\n",
        "Close = df.Close.isnull()\n",
        "for i in range(0, len(Close)):\n",
        "    if Close[i] == 1:\n",
        "        nan_value_index.append(i)\n",
        "        df['Close'][i] = 0"
      ],
      "execution_count": null,
      "outputs": [
        {
          "output_type": "stream",
          "text": [
            "        Open     High    Close    Volume\n",
            "0     0.4130  0.41685  0.40525  0.292964\n",
            "1     0.3970  0.40800  0.39565  0.286023\n",
            "2     0.4000  0.40600  0.36120  0.261119\n",
            "3     0.3500  0.44400  0.40880  0.295530\n",
            "4     0.4040  0.40400  0.37910  0.274059\n",
            "...      ...      ...      ...       ...\n",
            "2440  2.9105  2.93400  2.88200  2.882000\n",
            "2441  2.8960  2.89600  2.80500  2.805000\n",
            "2442  2.8090  2.81750  2.74000  2.740000\n",
            "2443  2.7625  2.79400  2.76200  2.762000\n",
            "2444  2.7800  2.84300  2.79600  2.796000\n",
            "\n",
            "[2445 rows x 4 columns]\n"
          ],
          "name": "stdout"
        }
      ]
    },
    {
      "cell_type": "code",
      "metadata": {
        "id": "2m6poMcBqaSu"
      },
      "source": [
        "X = df[['High','Open', 'Volume']]\n",
        "Y = df[['Close']]\n",
        "factor = 0.80\n",
        "length = X.shape[0]\n",
        "total_for_train = int(length*factor)\n",
        "X_train = X[:total_for_train]\n",
        "Y_train = Y[:total_for_train]\n",
        "X_test = X[total_for_train:]\n",
        "Y_test = Y[total_for_train:]"
      ],
      "execution_count": null,
      "outputs": []
    },
    {
      "cell_type": "code",
      "metadata": {
        "colab": {
          "base_uri": "https://localhost:8080/"
        },
        "id": "15wDokrHqfhp",
        "outputId": "334bc680-504d-48b6-c077-1564a3e1acf8"
      },
      "source": [
        "print(\"X_train\", X_train.shape)\n",
        "print(\"y_train\", Y_train.shape)\n",
        "print(\"X_test\", X_test.shape)\n",
        "print(\"y_test\", Y_test.shape)"
      ],
      "execution_count": null,
      "outputs": [
        {
          "output_type": "stream",
          "text": [
            "X_train (1956, 3)\n",
            "y_train (1956, 1)\n",
            "X_test (489, 3)\n",
            "y_test (489, 1)\n"
          ],
          "name": "stdout"
        }
      ]
    },
    {
      "cell_type": "markdown",
      "metadata": {
        "id": "qQyRcunQq_XL"
      },
      "source": [
        "## Compiling and training the neural network "
      ]
    },
    {
      "cell_type": "code",
      "metadata": {
        "colab": {
          "base_uri": "https://localhost:8080/"
        },
        "id": "xSiK-DiVrIRE",
        "outputId": "6744487a-e416-47de-d05d-539edf4a6fa5"
      },
      "source": [
        "classifier = Sequential()\n",
        "classifier.add(Dense(units = 32, kernel_initializer = 'uniform', activation = 'relu', input_dim = 3))\n",
        "classifier.add(Dense(units = 10, kernel_initializer = 'uniform', activation = 'relu'))\n",
        "classifier.add(Dense(units = 1, kernel_initializer = 'uniform', activation = 'linear'))\n",
        "classifier.compile(optimizer = 'adam', loss = 'mean_squared_error', metrics = [])\n",
        "classifier.fit(X_train, Y_train, batch_size = 128, epochs = 10, validation_split=0.05)"
      ],
      "execution_count": null,
      "outputs": [
        {
          "output_type": "stream",
          "text": [
            "Epoch 1/10\n",
            "15/15 [==============================] - 1s 14ms/step - loss: 2.4762e-05 - val_loss: 3.6291e-05\n",
            "Epoch 2/10\n",
            "15/15 [==============================] - 0s 3ms/step - loss: 2.4761e-06 - val_loss: 1.2479e-05\n",
            "Epoch 3/10\n",
            "15/15 [==============================] - 0s 3ms/step - loss: 1.1519e-06 - val_loss: 1.3733e-06\n",
            "Epoch 4/10\n",
            "15/15 [==============================] - 0s 3ms/step - loss: 2.4542e-07 - val_loss: 8.5795e-08\n",
            "Epoch 5/10\n",
            "15/15 [==============================] - 0s 3ms/step - loss: 1.0371e-07 - val_loss: 3.7992e-08\n",
            "Epoch 6/10\n",
            "15/15 [==============================] - 0s 3ms/step - loss: 8.5294e-08 - val_loss: 3.0936e-08\n",
            "Epoch 7/10\n",
            "15/15 [==============================] - 0s 3ms/step - loss: 7.7959e-08 - val_loss: 4.6292e-08\n",
            "Epoch 8/10\n",
            "15/15 [==============================] - 0s 3ms/step - loss: 7.9710e-08 - val_loss: 3.3930e-08\n",
            "Epoch 9/10\n",
            "15/15 [==============================] - 0s 3ms/step - loss: 7.3497e-08 - val_loss: 3.0076e-08\n",
            "Epoch 10/10\n",
            "15/15 [==============================] - 0s 3ms/step - loss: 7.6625e-08 - val_loss: 2.8963e-08\n"
          ],
          "name": "stdout"
        },
        {
          "output_type": "execute_result",
          "data": {
            "text/plain": [
              "<tensorflow.python.keras.callbacks.History at 0x7f15d64c6bd0>"
            ]
          },
          "metadata": {
            "tags": []
          },
          "execution_count": 16
        }
      ]
    },
    {
      "cell_type": "markdown",
      "metadata": {
        "id": "dPPM_-lHrMfz"
      },
      "source": [
        "##Predicted Values\n",
        "Executed the trained model"
      ]
    },
    {
      "cell_type": "code",
      "metadata": {
        "colab": {
          "base_uri": "https://localhost:8080/"
        },
        "id": "T6nTLGVErSwf",
        "outputId": "923ee867-93fb-4ef2-b641-9cdbdcfdb58d"
      },
      "source": [
        "predictions = classifier.predict(X_test)\n",
        "print(predictions[:10])"
      ],
      "execution_count": null,
      "outputs": [
        {
          "output_type": "stream",
          "text": [
            "[[0.0110744 ]\n",
            " [0.01065184]\n",
            " [0.00998245]\n",
            " [0.01067572]\n",
            " [0.01069466]\n",
            " [0.0111172 ]\n",
            " [0.0109557 ]\n",
            " [0.01121686]\n",
            " [0.01207155]\n",
            " [0.01186244]]\n"
          ],
          "name": "stdout"
        }
      ]
    },
    {
      "cell_type": "markdown",
      "metadata": {
        "id": "BAx_TXn7rdeP"
      },
      "source": [
        "## Calculating error in trained neural network model "
      ]
    },
    {
      "cell_type": "code",
      "metadata": {
        "colab": {
          "base_uri": "https://localhost:8080/"
        },
        "id": "DWcZd7PErfvM",
        "outputId": "f8cbc0f1-f46c-435c-fc45-1383506c9d56"
      },
      "source": [
        "trainScore = classifier.evaluate(X_train, Y_train, verbose=0)\n",
        "print('Train Score: %.2f MSE (%.2f RMSE)' % (trainScore, math.sqrt(trainScore)))\n",
        "testScore = classifier.evaluate(X_test, Y_test, verbose=0)\n",
        "print('Test Score: %.2f MSE (%.2f RMSE)' % (testScore, math.sqrt(testScore)))"
      ],
      "execution_count": null,
      "outputs": [
        {
          "output_type": "stream",
          "text": [
            "Train Score: 0.00 MSE (0.00 RMSE)\n",
            "Test Score: 0.00 MSE (0.00 RMSE)\n"
          ],
          "name": "stdout"
        }
      ]
    },
    {
      "cell_type": "markdown",
      "metadata": {
        "id": "8lzouPHrrkGJ"
      },
      "source": [
        "## Prediction vs actual results "
      ]
    },
    {
      "cell_type": "code",
      "metadata": {
        "colab": {
          "base_uri": "https://localhost:8080/",
          "height": 516
        },
        "id": "aCGt11zDrk-4",
        "outputId": "484d1081-1af7-4c7d-b3ce-ea6c947a3ded"
      },
      "source": [
        "import matplotlib.pyplot as plt\n",
        "plt.plot(predictions,color='blue', label='Predictions from the trained model')\n",
        "plt.legend(loc='upper left')\n",
        "plt.show()\n",
        "plt.plot(Y_test,color='green', label='Read values for the stock')\n",
        "plt.legend(loc='upper left')\n",
        "plt.show()"
      ],
      "execution_count": null,
      "outputs": [
        {
          "output_type": "display_data",
          "data": {
            "image/png": "[encoded data removed]",
            "text/plain": [
              "<Figure size 432x288 with 1 Axes>"
            ]
          },
          "metadata": {
            "tags": [],
            "needs_background": "light"
          }
        },
        {
          "output_type": "display_data",
          "data": {
            "image/png": "[encoded data removed]",
            "text/plain": [
              "<Figure size 432x288 with 1 Axes>"
            ]
          },
          "metadata": {
            "tags": [],
            "needs_background": "light"
          }
        }
      ]
    },
    {
      "cell_type": "markdown",
      "metadata": {
        "id": "1Oc97N-86UQG"
      },
      "source": [
        "#Implementation of CNN"
      ]
    },
    {
      "cell_type": "code",
      "metadata": {
        "id": "sku4Emw7MSrp",
        "outputId": "aa170e4d-364e-4121-91cc-e7e09918a6a5",
        "colab": {
          "base_uri": "https://localhost:8080/",
          "height": 0
        }
      },
      "source": [
        "# keras imports for the dataset and building our neural network\n",
        "from keras.datasets import mnist\n",
        "from keras.models import Sequential\n",
        "from keras.layers import Dense, Dropout, Conv2D, MaxPool2D, Flatten\n",
        "from keras.utils import np_utils\n",
        "\n",
        "# to calculate accuracy\n",
        "from sklearn.metrics import accuracy_score\n",
        "\n",
        "# loading the dataset\n",
        "(X_train, y_train), (X_test, y_test) = mnist.load_data()\n",
        "\n",
        "# building the input vector from the 28x28 pixels\n",
        "X_train = X_train.reshape(X_train.shape[0], 28, 28, 1)\n",
        "X_test = X_test.reshape(X_test.shape[0], 28, 28, 1)\n",
        "X_train = X_train.astype('float32')\n",
        "X_test = X_test.astype('float32')\n",
        "\n",
        "# normalizing the data to help with the training\n",
        "X_train /= 255\n",
        "X_test /= 255\n",
        "\n",
        "# one-hot encoding using keras' numpy-related utilities\n",
        "n_classes = 10\n",
        "print(\"Shape before one-hot encoding: \", y_train.shape)\n",
        "Y_train = np_utils.to_categorical(y_train, n_classes)\n",
        "Y_test = np_utils.to_categorical(y_test, n_classes)\n",
        "print(\"Shape after one-hot encoding: \", Y_train.shape)\n",
        "\n",
        "# building a linear stack of layers with the sequential model\n",
        "model = Sequential()\n",
        "# convolutional layer\n",
        "model.add(Conv2D(25, kernel_size=(3,3), strides=(1,1), padding='valid', activation='relu', input_shape=(28,28,1)))\n",
        "model.add(MaxPool2D(pool_size=(1,1)))\n",
        "# flatten output of conv\n",
        "model.add(Flatten())\n",
        "# hidden layer\n",
        "model.add(Dense(100, activation='relu'))\n",
        "# output layer\n",
        "model.add(Dense(10, activation='softmax'))\n",
        "\n",
        "# compiling the sequential model\n",
        "model.compile(loss='categorical_crossentropy', metrics=['accuracy'], optimizer='adam')\n",
        "\n",
        "# training the model for 10 epochs\n",
        "model.fit(X_train, Y_train, batch_size=128, epochs=10, validation_data=(X_test, Y_test))"
      ],
      "execution_count": 1,
      "outputs": [
        {
          "output_type": "stream",
          "text": [
            "Downloading data from https://storage.googleapis.com/tensorflow/tf-keras-datasets/mnist.npz\n",
            "11493376/11490434 [==============================] - 0s 0us/step\n",
            "Shape before one-hot encoding:  (60000,)\n",
            "Shape after one-hot encoding:  (60000, 10)\n",
            "Epoch 1/10\n",
            "469/469 [==============================] - 40s 84ms/step - loss: 0.3694 - accuracy: 0.8884 - val_loss: 0.0742 - val_accuracy: 0.9761\n",
            "Epoch 2/10\n",
            "469/469 [==============================] - 39s 83ms/step - loss: 0.0601 - accuracy: 0.9825 - val_loss: 0.0520 - val_accuracy: 0.9820\n",
            "Epoch 3/10\n",
            "469/469 [==============================] - 39s 84ms/step - loss: 0.0356 - accuracy: 0.9903 - val_loss: 0.0505 - val_accuracy: 0.9835\n",
            "Epoch 4/10\n",
            "469/469 [==============================] - 40s 85ms/step - loss: 0.0210 - accuracy: 0.9938 - val_loss: 0.0517 - val_accuracy: 0.9834\n",
            "Epoch 5/10\n",
            "469/469 [==============================] - 39s 84ms/step - loss: 0.0125 - accuracy: 0.9965 - val_loss: 0.0549 - val_accuracy: 0.9818\n",
            "Epoch 6/10\n",
            "469/469 [==============================] - 39s 83ms/step - loss: 0.0090 - accuracy: 0.9976 - val_loss: 0.0521 - val_accuracy: 0.9840\n",
            "Epoch 7/10\n",
            "469/469 [==============================] - 40s 85ms/step - loss: 0.0060 - accuracy: 0.9985 - val_loss: 0.0489 - val_accuracy: 0.9863\n",
            "Epoch 8/10\n",
            "469/469 [==============================] - 39s 83ms/step - loss: 0.0058 - accuracy: 0.9981 - val_loss: 0.0561 - val_accuracy: 0.9851\n",
            "Epoch 9/10\n",
            "469/469 [==============================] - 39s 84ms/step - loss: 0.0047 - accuracy: 0.9987 - val_loss: 0.0631 - val_accuracy: 0.9842\n",
            "Epoch 10/10\n",
            "469/469 [==============================] - 40s 85ms/step - loss: 0.0052 - accuracy: 0.9986 - val_loss: 0.0619 - val_accuracy: 0.9834\n"
          ],
          "name": "stdout"
        },
        {
          "output_type": "execute_result",
          "data": {
            "text/plain": [
              "<tensorflow.python.keras.callbacks.History at 0x7f18ec8da690>"
            ]
          },
          "metadata": {
            "tags": []
          },
          "execution_count": 1
        }
      ]
    }
  ]
}